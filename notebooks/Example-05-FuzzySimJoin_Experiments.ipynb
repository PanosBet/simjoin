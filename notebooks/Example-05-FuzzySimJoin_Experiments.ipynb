{
 "cells": [
  {
   "cell_type": "markdown",
   "metadata": {},
   "source": [
    "## Imports"
   ]
  },
  {
   "cell_type": "code",
   "execution_count": 1,
   "metadata": {},
   "outputs": [],
   "source": [
    "from pyjavaproperties import Properties\n",
    "import matplotlib.pyplot as plt\n",
    "import numpy as np\n",
    "import pandas as pd\n",
    "import pylab as pl\n",
    "%matplotlib inline"
   ]
  },
  {
   "cell_type": "markdown",
   "metadata": {},
   "source": [
    "## Settings to enable real-time output from a shell command"
   ]
  },
  {
   "cell_type": "code",
   "execution_count": 2,
   "metadata": {},
   "outputs": [],
   "source": [
    "from subprocess import Popen, PIPE, STDOUT\n",
    "from IPython.core.magic import register_line_magic\n",
    "\n",
    "@register_line_magic\n",
    "def runrealcmd(command):\n",
    "    process = Popen(command, stdout=PIPE, shell=True, stderr=STDOUT, bufsize=1, close_fds=True)\n",
    "    for line in iter(process.stdout.readline, b''):\n",
    "        print(line.rstrip().decode('utf-8'))\n",
    "    process.stdout.close()\n",
    "    process.wait()"
   ]
  },
  {
   "cell_type": "markdown",
   "metadata": {},
   "source": [
    "### Download the input file from here:\n",
    "http://download.smartdatalake.eu/datasets/dblp/dblp_authors_papers.csv.zip"
   ]
  },
  {
   "cell_type": "markdown",
   "metadata": {},
   "source": [
    "# 1. Vary the similarity threshold"
   ]
  },
  {
   "cell_type": "markdown",
   "metadata": {},
   "source": [
    "## 1.a Load and optionally edit the config file"
   ]
  },
  {
   "cell_type": "code",
   "execution_count": 3,
   "metadata": {},
   "outputs": [],
   "source": [
    "config_file_example = '../config.properties.example'\n",
    "config_file = '../config.properties'\n",
    "input_file = '../data/dblp_authors_papers.csv'\n",
    "output_file = '../data/output/dblp_authors_papers_selfjoin_out.csv'\n",
    "stats_file = '../data/output/stats.csv'\n",
    "\n",
    "params = Properties()\n",
    "params.load(open(config_file_example))\n",
    "params['input_file'] = input_file\n",
    "params['output_file'] = output_file\n",
    "params['stats_file'] = stats_file\n",
    "params['operation'] = 'self-join'\n",
    "params['mode'] = 'fuzzy'\n",
    "params['fuzzyset_column'] = '1'\n",
    "params['set_column'] = '2'\n",
    "params['tokens_column'] = '3'\n",
    "params['column_delimiter'] = ';'\n",
    "params['token_delimiter'] = ' '\n",
    "params['max_lines'] = '10000'\n",
    "params['return_counts'] = 'true'"
   ]
  },
  {
   "cell_type": "markdown",
   "metadata": {},
   "source": [
    "## 1.b Run the experiment"
   ]
  },
  {
   "cell_type": "code",
   "execution_count": 4,
   "metadata": {
    "scrolled": true
   },
   "outputs": [
    {
     "name": "stdout",
     "output_type": "stream",
     "text": [
      "Threshold is 0.5\n",
      "Finished reading file. Lines read: 10000. Lines skipped due to errors: 0. Num of sets: 209. Elements per set: 47.84688995215311\n",
      "|=====================|100%\n",
      "Transformation Time: 0.029196601 sec.\n",
      "Indexing Time: 0.021778536 sec.\n",
      "\n",
      "Total Join Time: 5.59265205 sec.\n",
      "Signature Generation Time: 0.067614589 sec.\n",
      "Check Filter Time: 0.023498109 sec.\n",
      "NN Filter Time: 0.200137853 sec.\n",
      "Verification Time: 5.286194616 sec.\n",
      "\n",
      "Check Filter Candidates: 294\n",
      "NN Filter Candidates: 272\n",
      "\n",
      "Total Matches: 257\n",
      "Threshold is 0.6\n",
      "Finished reading file. Lines read: 10000. Lines skipped due to errors: 0. Num of sets: 209. Elements per set: 47.84688995215311\n",
      "|=====================|100%\n",
      "Transformation Time: 0.031353599 sec.\n",
      "Indexing Time: 0.021690106 sec.\n",
      "\n",
      "Total Join Time: 4.23948782 sec.\n",
      "Signature Generation Time: 0.038474959 sec.\n",
      "Check Filter Time: 0.015210008 sec.\n",
      "NN Filter Time: 0.084045948 sec.\n",
      "Verification Time: 4.093996114 sec.\n",
      "\n",
      "Check Filter Candidates: 256\n",
      "NN Filter Candidates: 244\n",
      "\n",
      "Total Matches: 238\n",
      "Threshold is 0.7\n",
      "Finished reading file. Lines read: 10000. Lines skipped due to errors: 0. Num of sets: 209. Elements per set: 47.84688995215311\n",
      "|=====================|100%\n",
      "Transformation Time: 0.024102488 sec.\n",
      "Indexing Time: 0.015998166 sec.\n",
      "\n",
      "Total Join Time: 3.971678638 sec.\n",
      "Signature Generation Time: 0.050218723 sec.\n",
      "Check Filter Time: 0.019066823 sec.\n",
      "NN Filter Time: 0.330758725 sec.\n",
      "Verification Time: 3.563239399 sec.\n",
      "\n",
      "Check Filter Candidates: 243\n",
      "NN Filter Candidates: 236\n",
      "\n",
      "Total Matches: 236\n",
      "Threshold is 0.8\n",
      "Finished reading file. Lines read: 10000. Lines skipped due to errors: 0. Num of sets: 209. Elements per set: 47.84688995215311\n",
      "|=====================|100%\n",
      "Transformation Time: 0.020084169 sec.\n",
      "Indexing Time: 0.015110431 sec.\n",
      "\n",
      "Total Join Time: 3.733163184 sec.\n",
      "Signature Generation Time: 0.033007367 sec.\n",
      "Check Filter Time: 0.015235918 sec.\n",
      "NN Filter Time: 0.102035434 sec.\n",
      "Verification Time: 3.574690622 sec.\n",
      "\n",
      "Check Filter Candidates: 236\n",
      "NN Filter Candidates: 235\n",
      "\n",
      "Total Matches: 235\n",
      "Threshold is 0.9\n",
      "Finished reading file. Lines read: 10000. Lines skipped due to errors: 0. Num of sets: 209. Elements per set: 47.84688995215311\n",
      "|=====================|100%\n",
      "Transformation Time: 0.027403205 sec.\n",
      "Indexing Time: 0.022102761 sec.\n",
      "\n",
      "Total Join Time: 3.894853344 sec.\n",
      "Signature Generation Time: 0.033955633 sec.\n",
      "Check Filter Time: 0.012248731 sec.\n",
      "NN Filter Time: 0.22312471 sec.\n",
      "Verification Time: 3.615868414 sec.\n",
      "\n",
      "Check Filter Candidates: 235\n",
      "NN Filter Candidates: 235\n",
      "\n",
      "Total Matches: 235\n"
     ]
    }
   ],
   "source": [
    "stats = pd.DataFrame(0, index=[0.5, 0.6, 0.7, 0.8, 0.9], columns=['NumMatches', 'Time'])\n",
    "results = Properties()\n",
    "for thres in [0.5, 0.6, 0.7, 0.8, 0.9]:\n",
    "    print('Threshold is {}'.format(thres))\n",
    "    params['sim_threshold']= str(thres)\n",
    "    params.store(open(config_file, 'w'))\n",
    "    %runrealcmd java -jar ../target/simjoin-0.0.1-SNAPSHOT-jar-with-dependencies.jar $config_file\n",
    "    results.load(open(stats_file))\n",
    "    stats.loc[thres,'NumMatches'] = results['totalMatches']\n",
    "    stats.loc[thres,'Time'] = results['joinTime']"
   ]
  },
  {
   "cell_type": "code",
   "execution_count": 5,
   "metadata": {},
   "outputs": [
    {
     "data": {
      "text/html": [
       "<div>\n",
       "<style scoped>\n",
       "    .dataframe tbody tr th:only-of-type {\n",
       "        vertical-align: middle;\n",
       "    }\n",
       "\n",
       "    .dataframe tbody tr th {\n",
       "        vertical-align: top;\n",
       "    }\n",
       "\n",
       "    .dataframe thead th {\n",
       "        text-align: right;\n",
       "    }\n",
       "</style>\n",
       "<table border=\"1\" class=\"dataframe\">\n",
       "  <thead>\n",
       "    <tr style=\"text-align: right;\">\n",
       "      <th></th>\n",
       "      <th>NumMatches</th>\n",
       "      <th>Time</th>\n",
       "    </tr>\n",
       "  </thead>\n",
       "  <tbody>\n",
       "    <tr>\n",
       "      <th>0.5</th>\n",
       "      <td>257</td>\n",
       "      <td>5.59265205</td>\n",
       "    </tr>\n",
       "    <tr>\n",
       "      <th>0.6</th>\n",
       "      <td>238</td>\n",
       "      <td>4.23948782</td>\n",
       "    </tr>\n",
       "    <tr>\n",
       "      <th>0.7</th>\n",
       "      <td>236</td>\n",
       "      <td>3.971678638</td>\n",
       "    </tr>\n",
       "    <tr>\n",
       "      <th>0.8</th>\n",
       "      <td>235</td>\n",
       "      <td>3.733163184</td>\n",
       "    </tr>\n",
       "    <tr>\n",
       "      <th>0.9</th>\n",
       "      <td>235</td>\n",
       "      <td>3.894853344</td>\n",
       "    </tr>\n",
       "  </tbody>\n",
       "</table>\n",
       "</div>"
      ],
      "text/plain": [
       "    NumMatches         Time\n",
       "0.5        257   5.59265205\n",
       "0.6        238   4.23948782\n",
       "0.7        236  3.971678638\n",
       "0.8        235  3.733163184\n",
       "0.9        235  3.894853344"
      ]
     },
     "execution_count": 5,
     "metadata": {},
     "output_type": "execute_result"
    }
   ],
   "source": [
    "stats"
   ]
  },
  {
   "cell_type": "markdown",
   "metadata": {},
   "source": [
    "## 1.c Plot the results"
   ]
  },
  {
   "cell_type": "code",
   "execution_count": 6,
   "metadata": {},
   "outputs": [
    {
     "data": {
      "text/plain": [
       "<matplotlib.axes._subplots.AxesSubplot at 0x122074f60>"
      ]
     },
     "execution_count": 6,
     "metadata": {},
     "output_type": "execute_result"
    },
    {
     "data": {
      "image/png": "[encoded data removed]",
      "text/plain": [
       "<Figure size 864x576 with 1 Axes>"
      ]
     },
     "metadata": {
      "needs_background": "light"
     },
     "output_type": "display_data"
    }
   ],
   "source": [
    "stats.NumMatches = stats.NumMatches.astype('long')\n",
    "fig = plt.figure(figsize=(12,8))\n",
    "ax = fig.add_subplot(111)\n",
    "ax.set_ylabel('Matches')\n",
    "ax.set_xlabel('Threshold')\n",
    "stats.NumMatches.plot.line(ax=ax, fontsize=16, title='Total Matches per Threshold')"
   ]
  },
  {
   "cell_type": "code",
   "execution_count": 7,
   "metadata": {},
   "outputs": [
    {
     "data": {
      "text/plain": [
       "<matplotlib.axes._subplots.AxesSubplot at 0x1223a8320>"
      ]
     },
     "execution_count": 7,
     "metadata": {},
     "output_type": "execute_result"
    },
    {
     "data": {
      "image/png": "[encoded data removed]",
      "text/plain": [
       "<Figure size 864x576 with 1 Axes>"
      ]
     },
     "metadata": {
      "needs_background": "light"
     },
     "output_type": "display_data"
    }
   ],
   "source": [
    "stats.Time = stats.Time.astype('float64')\n",
    "fig = plt.figure(figsize=(12,8))\n",
    "ax = fig.add_subplot(111)\n",
    "ax.set_ylabel('Time (sec)')\n",
    "ax.set_xlabel('Threshold')\n",
    "stats.Time.plot.line(ax=ax, fontsize=16, title='Total Join Time per Threshold')"
   ]
  },
  {
   "cell_type": "markdown",
   "metadata": {},
   "source": [
    "# 2. Vary dataset size"
   ]
  },
  {
   "cell_type": "markdown",
   "metadata": {},
   "source": [
    "## 2.a Load and optionally edit the config file"
   ]
  },
  {
   "cell_type": "code",
   "execution_count": 8,
   "metadata": {},
   "outputs": [],
   "source": [
    "params = Properties()\n",
    "params.load(open(config_file_example))\n",
    "params['input_file'] = input_file\n",
    "params['output_file'] = output_file\n",
    "params['stats_file'] = stats_file\n",
    "params['operation'] = 'self-join'\n",
    "params['mode'] = 'fuzzy'\n",
    "params['fuzzyset_column'] = '1'\n",
    "params['set_column'] = '2'\n",
    "params['tokens_column'] = '3'\n",
    "params['column_delimiter'] = ';'\n",
    "params['token_delimiter'] = ' '\n",
    "params['return_counts'] = 'true'\n",
    "params['sim_threshold']= '0.8'"
   ]
  },
  {
   "cell_type": "markdown",
   "metadata": {},
   "source": [
    "## 2.b Run the experiment"
   ]
  },
  {
   "cell_type": "code",
   "execution_count": 9,
   "metadata": {
    "scrolled": true
   },
   "outputs": [
    {
     "name": "stdout",
     "output_type": "stream",
     "text": [
      "Size is 20% or 10,000\n",
      "Finished reading file. Lines read: 10000. Lines skipped due to errors: 0. Num of sets: 209. Elements per set: 47.84688995215311\n",
      "|=====================|100%\n",
      "Transformation Time: 0.030596936 sec.\n",
      "Indexing Time: 0.025675201 sec.\n",
      "\n",
      "Total Join Time: 4.236790875 sec.\n",
      "Signature Generation Time: 0.046754726 sec.\n",
      "Check Filter Time: 0.015347539 sec.\n",
      "NN Filter Time: 0.23715989 sec.\n",
      "Verification Time: 3.925623846 sec.\n",
      "\n",
      "Check Filter Candidates: 236\n",
      "NN Filter Candidates: 235\n",
      "\n",
      "Total Matches: 235\n",
      "Size is 40% or 20,000\n",
      "Finished reading file. Lines read: 20000. Lines skipped due to errors: 0. Num of sets: 376. Elements per set: 53.191489361702125\n",
      "|=====================|100%\n",
      "Transformation Time: 0.039838628 sec.\n",
      "Indexing Time: 0.030304476 sec.\n",
      "\n",
      "Total Join Time: 21.770950683 sec.\n",
      "Signature Generation Time: 0.045448439 sec.\n",
      "Check Filter Time: 0.013613108 sec.\n",
      "NN Filter Time: 0.333213015 sec.\n",
      "Verification Time: 21.370295384 sec.\n",
      "\n",
      "Check Filter Candidates: 411\n",
      "NN Filter Candidates: 410\n",
      "\n",
      "Total Matches: 410\n",
      "Size is 60% or 30,000\n",
      "Finished reading file. Lines read: 30000. Lines skipped due to errors: 0. Num of sets: 550. Elements per set: 54.54545454545455\n",
      "|=====================|100%\n",
      "Transformation Time: 0.05985817 sec.\n",
      "Indexing Time: 0.025708432 sec.\n",
      "\n",
      "Total Join Time: 35.427415255 sec.\n",
      "Signature Generation Time: 0.062897299 sec.\n",
      "Check Filter Time: 0.020775803 sec.\n",
      "NN Filter Time: 0.689902958 sec.\n",
      "Verification Time: 34.643161539 sec.\n",
      "\n",
      "Check Filter Candidates: 613\n",
      "NN Filter Candidates: 610\n",
      "\n",
      "Total Matches: 610\n",
      "Size is 80% or 40,000\n",
      "Finished reading file. Lines read: 40000. Lines skipped due to errors: 0. Num of sets: 707. Elements per set: 56.57708628005658\n",
      "|=====================|100%\n",
      "Transformation Time: 0.056192667 sec.\n",
      "Indexing Time: 0.047895188 sec.\n",
      "\n",
      "Total Join Time: 59.078933746 sec.\n",
      "Signature Generation Time: 0.074279464 sec.\n",
      "Check Filter Time: 0.023504047 sec.\n",
      "NN Filter Time: 0.482480711 sec.\n",
      "Verification Time: 58.489059211 sec.\n",
      "\n",
      "Check Filter Candidates: 781\n",
      "NN Filter Candidates: 771\n",
      "\n",
      "Total Matches: 771\n",
      "Size is 100% or 50,000\n",
      "Finished reading file. Lines read: 50000. Lines skipped due to errors: 0. Num of sets: 874. Elements per set: 57.20823798627002\n",
      "|=====================|100%\n",
      "Transformation Time: 0.066586999 sec.\n",
      "Indexing Time: 0.0661889 sec.\n",
      "\n",
      "Total Join Time: 69.82705186 sec.\n",
      "Signature Generation Time: 0.124177726 sec.\n",
      "Check Filter Time: 0.031719538 sec.\n",
      "NN Filter Time: 0.81939334 sec.\n",
      "Verification Time: 68.840739921 sec.\n",
      "\n",
      "Check Filter Candidates: 964\n",
      "NN Filter Candidates: 950\n",
      "\n",
      "Total Matches: 950\n"
     ]
    }
   ],
   "source": [
    "stats = pd.DataFrame(0, index=np.arange(.2,1.1,.2), columns=['NumMatches', 'Time'])\n",
    "results = Properties()\n",
    "size = 50000\n",
    "for prop in np.arange(.2,1.1,.2):\n",
    "    print('Size is {}% or {:,}'.format(int(prop*100), int(prop*size)))\n",
    "    params['max_lines']= str(int(prop*size))\n",
    "    params.store(open(config_file, 'w'))\n",
    "    %runrealcmd java -jar ../target/simjoin-0.0.1-SNAPSHOT-jar-with-dependencies.jar $config_file\n",
    "    results.load(open(stats_file))\n",
    "    stats.loc[prop,'NumMatches'] = results['totalMatches']\n",
    "    stats.loc[prop,'Time'] = results['joinTime']"
   ]
  },
  {
   "cell_type": "code",
   "execution_count": 10,
   "metadata": {},
   "outputs": [
    {
     "data": {
      "text/html": [
       "<div>\n",
       "<style scoped>\n",
       "    .dataframe tbody tr th:only-of-type {\n",
       "        vertical-align: middle;\n",
       "    }\n",
       "\n",
       "    .dataframe tbody tr th {\n",
       "        vertical-align: top;\n",
       "    }\n",
       "\n",
       "    .dataframe thead th {\n",
       "        text-align: right;\n",
       "    }\n",
       "</style>\n",
       "<table border=\"1\" class=\"dataframe\">\n",
       "  <thead>\n",
       "    <tr style=\"text-align: right;\">\n",
       "      <th></th>\n",
       "      <th>NumMatches</th>\n",
       "      <th>Time</th>\n",
       "    </tr>\n",
       "  </thead>\n",
       "  <tbody>\n",
       "    <tr>\n",
       "      <th>0.2</th>\n",
       "      <td>235</td>\n",
       "      <td>4.236790875</td>\n",
       "    </tr>\n",
       "    <tr>\n",
       "      <th>0.4</th>\n",
       "      <td>410</td>\n",
       "      <td>21.770950683</td>\n",
       "    </tr>\n",
       "    <tr>\n",
       "      <th>0.6</th>\n",
       "      <td>610</td>\n",
       "      <td>35.427415255</td>\n",
       "    </tr>\n",
       "    <tr>\n",
       "      <th>0.8</th>\n",
       "      <td>771</td>\n",
       "      <td>59.078933746</td>\n",
       "    </tr>\n",
       "    <tr>\n",
       "      <th>1.0</th>\n",
       "      <td>950</td>\n",
       "      <td>69.82705186</td>\n",
       "    </tr>\n",
       "  </tbody>\n",
       "</table>\n",
       "</div>"
      ],
      "text/plain": [
       "    NumMatches          Time\n",
       "0.2        235   4.236790875\n",
       "0.4        410  21.770950683\n",
       "0.6        610  35.427415255\n",
       "0.8        771  59.078933746\n",
       "1.0        950   69.82705186"
      ]
     },
     "execution_count": 10,
     "metadata": {},
     "output_type": "execute_result"
    }
   ],
   "source": [
    "stats"
   ]
  },
  {
   "cell_type": "markdown",
   "metadata": {},
   "source": [
    "## 2.c Plot the results"
   ]
  },
  {
   "cell_type": "code",
   "execution_count": 11,
   "metadata": {},
   "outputs": [
    {
     "data": {
      "text/plain": [
       "<matplotlib.axes._subplots.AxesSubplot at 0x1227f5d30>"
      ]
     },
     "execution_count": 11,
     "metadata": {},
     "output_type": "execute_result"
    },
    {
     "data": {
      "image/png": "[encoded data removed]",
      "text/plain": [
       "<Figure size 864x576 with 1 Axes>"
      ]
     },
     "metadata": {
      "needs_background": "light"
     },
     "output_type": "display_data"
    }
   ],
   "source": [
    "stats.NumMatches = stats.NumMatches.astype('long')\n",
    "fig = plt.figure(figsize=(12,8))\n",
    "ax = fig.add_subplot(111)\n",
    "ax.set_ylabel('Matches')\n",
    "ax.set_xlabel('Size')\n",
    "stats.NumMatches.plot.line(ax=ax, fontsize=16, title='Total Matches per Data Size')"
   ]
  },
  {
   "cell_type": "code",
   "execution_count": 12,
   "metadata": {},
   "outputs": [
    {
     "data": {
      "text/plain": [
       "<matplotlib.axes._subplots.AxesSubplot at 0x1227fd400>"
      ]
     },
     "execution_count": 12,
     "metadata": {},
     "output_type": "execute_result"
    },
    {
     "data": {
      "image/png": "[encoded data removed]",
      "text/plain": [
       "<Figure size 864x576 with 1 Axes>"
      ]
     },
     "metadata": {
      "needs_background": "light"
     },
     "output_type": "display_data"
    }
   ],
   "source": [
    "stats.Time = stats.Time.astype('float64')\n",
    "fig = plt.figure(figsize=(12,8))\n",
    "ax = fig.add_subplot(111)\n",
    "ax.set_ylabel('Time (sec)')\n",
    "ax.set_xlabel('Size')\n",
    "stats.Time.plot.line(ax=ax, fontsize=16, title='Total Join Time per Size')"
   ]
  },
  {
   "cell_type": "markdown",
   "metadata": {},
   "source": [
    "# 3. Histogram of similarity scores"
   ]
  },
  {
   "cell_type": "markdown",
   "metadata": {},
   "source": [
    "## 3.a Load and optionally edit the config file"
   ]
  },
  {
   "cell_type": "code",
   "execution_count": 13,
   "metadata": {},
   "outputs": [],
   "source": [
    "params = Properties()\n",
    "params.load(open(config_file_example))\n",
    "params['input_file'] = input_file\n",
    "params['output_file'] = output_file\n",
    "params['stats_file'] = stats_file\n",
    "params['operation'] = 'self-join'\n",
    "params['mode'] = 'fuzzy'\n",
    "params['fuzzyset_column'] = '1'\n",
    "params['set_column'] = '2'\n",
    "params['tokens_column'] = '3'\n",
    "params['column_delimiter'] = ';'\n",
    "params['token_delimiter'] = ' '\n",
    "params['sim_threshold']= '0.6'\n",
    "params['max_lines'] = '10000'\n",
    "params.store(open(config_file, 'w'))"
   ]
  },
  {
   "cell_type": "markdown",
   "metadata": {},
   "source": [
    "## 3.b Run the experiment"
   ]
  },
  {
   "cell_type": "code",
   "execution_count": 14,
   "metadata": {},
   "outputs": [
    {
     "name": "stdout",
     "output_type": "stream",
     "text": [
      "Finished reading file. Lines read: 10000. Lines skipped due to errors: 0. Num of sets: 209. Elements per set: 47.84688995215311\n",
      "|=====================|100%\n",
      "Transformation Time: 0.028773034 sec.\n",
      "Indexing Time: 0.018823398 sec.\n",
      "\n",
      "Total Join Time: 4.79445626 sec.\n",
      "Signature Generation Time: 0.04065873 sec.\n",
      "Check Filter Time: 0.018656527 sec.\n",
      "NN Filter Time: 0.118971034 sec.\n",
      "Verification Time: 4.598868968 sec.\n",
      "\n",
      "Check Filter Candidates: 256\n",
      "NN Filter Candidates: 244\n",
      "\n",
      "Total Matches: 238\n"
     ]
    }
   ],
   "source": [
    "%runrealcmd java -jar ../target/simjoin-0.0.1-SNAPSHOT-jar-with-dependencies.jar $config_file"
   ]
  },
  {
   "cell_type": "markdown",
   "metadata": {},
   "source": [
    "## 3.c Plot the results"
   ]
  },
  {
   "cell_type": "code",
   "execution_count": 15,
   "metadata": {},
   "outputs": [
    {
     "data": {
      "text/plain": [
       "<matplotlib.axes._subplots.AxesSubplot at 0x122807fd0>"
      ]
     },
     "execution_count": 15,
     "metadata": {},
     "output_type": "execute_result"
    },
    {
     "data": {
      "image/png": "[encoded data removed]",
      "text/plain": [
       "<Figure size 864x576 with 1 Axes>"
      ]
     },
     "metadata": {
      "needs_background": "light"
     },
     "output_type": "display_data"
    }
   ],
   "source": [
    "out1 = pd.read_csv(output_file, header=None, names=['User_ID_1', 'User_ID_2', 'Similarity'])\n",
    "out1['Bin'] = (out1.Similarity*100).astype('int')\n",
    "out1.head()\n",
    "fig = plt.figure(figsize=(12,8))\n",
    "ax = fig.add_subplot(111)\n",
    "ax.set_xlabel('Similarity Bins')\n",
    "ax.set_ylabel('Frequency')\n",
    "pl.suptitle(\"Histogram of Similarities\")\n",
    "out1.Bin.hist()"
   ]
  }
 ],
 "metadata": {
  "kernelspec": {
   "display_name": "Python 3",
   "language": "python",
   "name": "python3"
  },
  "language_info": {
   "codemirror_mode": {
    "name": "ipython",
    "version": 3
   },
   "file_extension": ".py",
   "mimetype": "text/x-python",
   "name": "python",
   "nbconvert_exporter": "python",
   "pygments_lexer": "ipython3",
   "version": "3.7.1"
  }
 },
 "nbformat": 4,
 "nbformat_minor": 2
}
