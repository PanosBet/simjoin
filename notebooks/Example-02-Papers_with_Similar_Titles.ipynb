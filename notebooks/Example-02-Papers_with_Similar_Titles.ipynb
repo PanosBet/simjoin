{
 "cells": [
  {
   "cell_type": "markdown",
   "metadata": {},
   "source": [
    "## Imports"
   ]
  },
  {
   "cell_type": "code",
   "execution_count": 1,
   "metadata": {},
   "outputs": [],
   "source": [
    "import pandas as pd\n",
    "import json"
   ]
  },
  {
   "cell_type": "markdown",
   "metadata": {},
   "source": [
    "## Settings to enable real-time output from a shell command"
   ]
  },
  {
   "cell_type": "code",
   "execution_count": 2,
   "metadata": {},
   "outputs": [],
   "source": [
    "from subprocess import Popen, PIPE, STDOUT\n",
    "from IPython.core.magic import register_line_magic\n",
    "\n",
    "@register_line_magic\n",
    "def runrealcmd(command):\n",
    "    process = Popen(command, stdout=PIPE, shell=True, stderr=STDOUT, bufsize=1, close_fds=True)\n",
    "    for line in iter(process.stdout.readline, b''):\n",
    "        print(line.rstrip().decode('utf-8'))\n",
    "    process.stdout.close()\n",
    "    process.wait()"
   ]
  },
  {
   "cell_type": "markdown",
   "metadata": {},
   "source": [
    "# 1. Self Join"
   ]
  },
  {
   "cell_type": "markdown",
   "metadata": {},
   "source": [
    "## 1.a Preview the input file"
   ]
  },
  {
   "cell_type": "code",
   "execution_count": 3,
   "metadata": {},
   "outputs": [
    {
     "data": {
      "text/html": [
       "<div>\n",
       "<style scoped>\n",
       "    .dataframe tbody tr th:only-of-type {\n",
       "        vertical-align: middle;\n",
       "    }\n",
       "\n",
       "    .dataframe tbody tr th {\n",
       "        vertical-align: top;\n",
       "    }\n",
       "\n",
       "    .dataframe thead th {\n",
       "        text-align: right;\n",
       "    }\n",
       "</style>\n",
       "<table border=\"1\" class=\"dataframe\">\n",
       "  <thead>\n",
       "    <tr style=\"text-align: right;\">\n",
       "      <th></th>\n",
       "      <th>Paper_ID</th>\n",
       "      <th>Title</th>\n",
       "    </tr>\n",
       "  </thead>\n",
       "  <tbody>\n",
       "    <tr>\n",
       "      <th>0</th>\n",
       "      <td>SIGMOD2014</td>\n",
       "      <td>pivotal,prefix,based,filtering,algorithm,strin...</td>\n",
       "    </tr>\n",
       "    <tr>\n",
       "      <th>1</th>\n",
       "      <td>ICDE2013</td>\n",
       "      <td>top-k,string,similarity,search,edit,distance,c...</td>\n",
       "    </tr>\n",
       "    <tr>\n",
       "      <th>2</th>\n",
       "      <td>VLDB2016a</td>\n",
       "      <td>efficient,partition,based,method,exact,set,sim...</td>\n",
       "    </tr>\n",
       "    <tr>\n",
       "      <th>3</th>\n",
       "      <td>SIGMOD2015</td>\n",
       "      <td>efficient,similarity,join,search,multi,attribu...</td>\n",
       "    </tr>\n",
       "    <tr>\n",
       "      <th>4</th>\n",
       "      <td>VLDB2014</td>\n",
       "      <td>string,similarity,joins,experimental,evaluation</td>\n",
       "    </tr>\n",
       "  </tbody>\n",
       "</table>\n",
       "</div>"
      ],
      "text/plain": [
       "     Paper_ID                                              Title\n",
       "0  SIGMOD2014  pivotal,prefix,based,filtering,algorithm,strin...\n",
       "1    ICDE2013  top-k,string,similarity,search,edit,distance,c...\n",
       "2   VLDB2016a  efficient,partition,based,method,exact,set,sim...\n",
       "3  SIGMOD2015  efficient,similarity,join,search,multi,attribu...\n",
       "4    VLDB2014    string,similarity,joins,experimental,evaluation"
      ]
     },
     "execution_count": 3,
     "metadata": {},
     "output_type": "execute_result"
    }
   ],
   "source": [
    "df = pd.read_csv('../data/dblp_papers_test.csv', sep=';', header=None, names=['Paper_ID', 'Title'])\n",
    "df.head()"
   ]
  },
  {
   "cell_type": "markdown",
   "metadata": {},
   "source": [
    "## 1.b Load and optionally edit the config file"
   ]
  },
  {
   "cell_type": "code",
   "execution_count": 4,
   "metadata": {},
   "outputs": [],
   "source": [
    "config_file_example = '../config.json.example'\n",
    "config_file = '../config.json'\n",
    "input_file = '../data/dblp_papers_test.csv'\n",
    "output_file = '../data/output/dblp_papers_selfjoin_out.csv'\n",
    "log_file = '../data/output/log.txt'"
   ]
  },
  {
   "cell_type": "code",
   "execution_count": 5,
   "metadata": {},
   "outputs": [
    {
     "data": {
      "text/plain": [
       "{'query_file': 'data/test_input_R.csv',\n",
       " 'input_file': 'data/test_input_S.csv',\n",
       " 'max_lines': '-1',\n",
       " 'set_column': '1',\n",
       " 'elements_column': '2',\n",
       " 'tokens_column': '3',\n",
       " 'column_delimiter': ';',\n",
       " 'token_delimiter': ',',\n",
       " 'header': 'false',\n",
       " 'output_file': 'out.txt',\n",
       " 'mode': 'standard',\n",
       " 'join_type': 'threshold',\n",
       " 'threshold': '0.5',\n",
       " 'k': '3'}"
      ]
     },
     "execution_count": 5,
     "metadata": {},
     "output_type": "execute_result"
    }
   ],
   "source": [
    "params = json.load(open(config_file_example))\n",
    "params"
   ]
  },
  {
   "cell_type": "code",
   "execution_count": 6,
   "metadata": {},
   "outputs": [],
   "source": [
    "params['join_type'] = 'threshold'\n",
    "params['threshold'] = '0.33'\n",
    "params['input_file'] = input_file\n",
    "del(params['query_file'])\n",
    "params['output_file'] = output_file\n",
    "params['log_file'] = log_file\n",
    "params['set_column'] = '1'\n",
    "params['tokens_column'] = '2'"
   ]
  },
  {
   "cell_type": "code",
   "execution_count": 7,
   "metadata": {},
   "outputs": [
    {
     "data": {
      "text/plain": [
       "{'input_file': '../data/dblp_papers_test.csv',\n",
       " 'max_lines': '-1',\n",
       " 'set_column': '1',\n",
       " 'elements_column': '2',\n",
       " 'tokens_column': '2',\n",
       " 'column_delimiter': ';',\n",
       " 'token_delimiter': ',',\n",
       " 'header': 'false',\n",
       " 'output_file': '../data/output/dblp_papers_selfjoin_out.csv',\n",
       " 'mode': 'standard',\n",
       " 'join_type': 'threshold',\n",
       " 'threshold': '0.33',\n",
       " 'k': '3',\n",
       " 'log_file': '../data/output/log.txt'}"
      ]
     },
     "execution_count": 7,
     "metadata": {},
     "output_type": "execute_result"
    }
   ],
   "source": [
    "params"
   ]
  },
  {
   "cell_type": "code",
   "execution_count": 8,
   "metadata": {},
   "outputs": [],
   "source": [
    "json.dump(params, open(config_file, 'w'), indent=4)"
   ]
  },
  {
   "cell_type": "markdown",
   "metadata": {},
   "source": [
    "## 1.c Execute the join operation"
   ]
  },
  {
   "cell_type": "code",
   "execution_count": 9,
   "metadata": {},
   "outputs": [
    {
     "name": "stdout",
     "output_type": "stream",
     "text": [
      "Finished reading file. Lines read: 18. Lines skipped due to errors: 0. Num of sets: 18. Elements per set: 6.222222222222222\n",
      "Read time: 0.002008185 sec.\n",
      "Transform time: 0.011628722 sec.\n",
      "Collection size: 18\n",
      "Join time: 0.017142176 sec.\n",
      "Number of matches: 11\n"
     ]
    }
   ],
   "source": [
    "%runrealcmd java -jar ../target/simjoin-0.0.1-SNAPSHOT-jar-with-dependencies.jar $config_file"
   ]
  },
  {
   "cell_type": "markdown",
   "metadata": {},
   "source": [
    "## 1.d Load the results"
   ]
  },
  {
   "cell_type": "code",
   "execution_count": 10,
   "metadata": {},
   "outputs": [
    {
     "data": {
      "text/html": [
       "<div>\n",
       "<style scoped>\n",
       "    .dataframe tbody tr th:only-of-type {\n",
       "        vertical-align: middle;\n",
       "    }\n",
       "\n",
       "    .dataframe tbody tr th {\n",
       "        vertical-align: top;\n",
       "    }\n",
       "\n",
       "    .dataframe thead th {\n",
       "        text-align: right;\n",
       "    }\n",
       "</style>\n",
       "<table border=\"1\" class=\"dataframe\">\n",
       "  <thead>\n",
       "    <tr style=\"text-align: right;\">\n",
       "      <th></th>\n",
       "      <th>Paper_ID_1</th>\n",
       "      <th>Paper_ID_2</th>\n",
       "      <th>Similarity</th>\n",
       "      <th>Title_1</th>\n",
       "      <th>Title_2</th>\n",
       "    </tr>\n",
       "  </thead>\n",
       "  <tbody>\n",
       "    <tr>\n",
       "      <th>10</th>\n",
       "      <td>VLDB2016a</td>\n",
       "      <td>VLDB2011</td>\n",
       "      <td>0.555556</td>\n",
       "      <td>efficient,partition,based,method,exact,set,sim...</td>\n",
       "      <td>pass,join,partition,based,method,similarity,join</td>\n",
       "    </tr>\n",
       "    <tr>\n",
       "      <th>1</th>\n",
       "      <td>VLDB2012b</td>\n",
       "      <td>VLDB2012a</td>\n",
       "      <td>0.500000</td>\n",
       "      <td>seal,spatio,textual,similarity,search</td>\n",
       "      <td>spatio,textual,similarity,join</td>\n",
       "    </tr>\n",
       "    <tr>\n",
       "      <th>2</th>\n",
       "      <td>VLDB2014</td>\n",
       "      <td>SIGMOD2013</td>\n",
       "      <td>0.428571</td>\n",
       "      <td>string,similarity,joins,experimental,evaluation</td>\n",
       "      <td>string,similarity,measures,joins,synonyms</td>\n",
       "    </tr>\n",
       "    <tr>\n",
       "      <th>9</th>\n",
       "      <td>VLDB2016a</td>\n",
       "      <td>VLDB2017</td>\n",
       "      <td>0.400000</td>\n",
       "      <td>efficient,partition,based,method,exact,set,sim...</td>\n",
       "      <td>leveraging,set,relations,exact,set,similarity,...</td>\n",
       "    </tr>\n",
       "    <tr>\n",
       "      <th>4</th>\n",
       "      <td>VLDB2011</td>\n",
       "      <td>SIGMOD2012a</td>\n",
       "      <td>0.375000</td>\n",
       "      <td>pass,join,partition,based,method,similarity,join</td>\n",
       "      <td>exploiting,mapreduce,based,similarity,join</td>\n",
       "    </tr>\n",
       "    <tr>\n",
       "      <th>5</th>\n",
       "      <td>VLDB2018</td>\n",
       "      <td>SIGMOD2012a</td>\n",
       "      <td>0.375000</td>\n",
       "      <td>set,similarity,join,mapreduce,experimental,survey</td>\n",
       "      <td>exploiting,mapreduce,based,similarity,join</td>\n",
       "    </tr>\n",
       "    <tr>\n",
       "      <th>8</th>\n",
       "      <td>SIGMOD2010a</td>\n",
       "      <td>ICDE2009</td>\n",
       "      <td>0.375000</td>\n",
       "      <td>efficient,parallel,set,similarity,joins,using,...</td>\n",
       "      <td>top-k,set,similarity,joins</td>\n",
       "    </tr>\n",
       "    <tr>\n",
       "      <th>0</th>\n",
       "      <td>VLDB2012a</td>\n",
       "      <td>SIGMOD2010b</td>\n",
       "      <td>0.333333</td>\n",
       "      <td>spatio,textual,similarity,join</td>\n",
       "      <td>probabilistic,string,similarity,join</td>\n",
       "    </tr>\n",
       "    <tr>\n",
       "      <th>3</th>\n",
       "      <td>VLDB2017</td>\n",
       "      <td>VLDB2016b</td>\n",
       "      <td>0.333333</td>\n",
       "      <td>leveraging,set,relations,exact,set,similarity,...</td>\n",
       "      <td>empirical,evaluation,set,similarity,join,techn...</td>\n",
       "    </tr>\n",
       "    <tr>\n",
       "      <th>6</th>\n",
       "      <td>VLDB2018</td>\n",
       "      <td>VLDB2017</td>\n",
       "      <td>0.333333</td>\n",
       "      <td>set,similarity,join,mapreduce,experimental,survey</td>\n",
       "      <td>leveraging,set,relations,exact,set,similarity,...</td>\n",
       "    </tr>\n",
       "    <tr>\n",
       "      <th>7</th>\n",
       "      <td>VLDB2018</td>\n",
       "      <td>VLDB2016b</td>\n",
       "      <td>0.333333</td>\n",
       "      <td>set,similarity,join,mapreduce,experimental,survey</td>\n",
       "      <td>empirical,evaluation,set,similarity,join,techn...</td>\n",
       "    </tr>\n",
       "  </tbody>\n",
       "</table>\n",
       "</div>"
      ],
      "text/plain": [
       "     Paper_ID_1   Paper_ID_2  Similarity  \\\n",
       "10    VLDB2016a     VLDB2011    0.555556   \n",
       "1     VLDB2012b    VLDB2012a    0.500000   \n",
       "2      VLDB2014   SIGMOD2013    0.428571   \n",
       "9     VLDB2016a     VLDB2017    0.400000   \n",
       "4      VLDB2011  SIGMOD2012a    0.375000   \n",
       "5      VLDB2018  SIGMOD2012a    0.375000   \n",
       "8   SIGMOD2010a     ICDE2009    0.375000   \n",
       "0     VLDB2012a  SIGMOD2010b    0.333333   \n",
       "3      VLDB2017    VLDB2016b    0.333333   \n",
       "6      VLDB2018     VLDB2017    0.333333   \n",
       "7      VLDB2018    VLDB2016b    0.333333   \n",
       "\n",
       "                                              Title_1  \\\n",
       "10  efficient,partition,based,method,exact,set,sim...   \n",
       "1               seal,spatio,textual,similarity,search   \n",
       "2     string,similarity,joins,experimental,evaluation   \n",
       "9   efficient,partition,based,method,exact,set,sim...   \n",
       "4    pass,join,partition,based,method,similarity,join   \n",
       "5   set,similarity,join,mapreduce,experimental,survey   \n",
       "8   efficient,parallel,set,similarity,joins,using,...   \n",
       "0                      spatio,textual,similarity,join   \n",
       "3   leveraging,set,relations,exact,set,similarity,...   \n",
       "6   set,similarity,join,mapreduce,experimental,survey   \n",
       "7   set,similarity,join,mapreduce,experimental,survey   \n",
       "\n",
       "                                              Title_2  \n",
       "10   pass,join,partition,based,method,similarity,join  \n",
       "1                      spatio,textual,similarity,join  \n",
       "2           string,similarity,measures,joins,synonyms  \n",
       "9   leveraging,set,relations,exact,set,similarity,...  \n",
       "4          exploiting,mapreduce,based,similarity,join  \n",
       "5          exploiting,mapreduce,based,similarity,join  \n",
       "8                          top-k,set,similarity,joins  \n",
       "0                probabilistic,string,similarity,join  \n",
       "3   empirical,evaluation,set,similarity,join,techn...  \n",
       "6   leveraging,set,relations,exact,set,similarity,...  \n",
       "7   empirical,evaluation,set,similarity,join,techn...  "
      ]
     },
     "execution_count": 10,
     "metadata": {},
     "output_type": "execute_result"
    }
   ],
   "source": [
    "out1 = pd.read_csv(output_file, header=None, names=['Paper_ID_1', 'Paper_ID_2', 'Similarity'])\n",
    "out1['Title_1'] = df.set_index('Paper_ID').Title[out1.Paper_ID_1].reset_index(drop=True)\n",
    "out1['Title_2'] = df.set_index('Paper_ID').Title[out1.Paper_ID_2].reset_index(drop=True)\n",
    "out1.sort_values('Similarity', ascending=False).head(11)"
   ]
  },
  {
   "cell_type": "markdown",
   "metadata": {},
   "source": [
    "# 2. Self Top K"
   ]
  },
  {
   "cell_type": "markdown",
   "metadata": {},
   "source": [
    "## 2.a Load and optionally edit the config file"
   ]
  },
  {
   "cell_type": "code",
   "execution_count": 11,
   "metadata": {},
   "outputs": [],
   "source": [
    "output_file = '../data/output/dblp_papers_selfclosestpairs_out.csv'\n",
    "\n",
    "params['join_type'] = 'topk'\n",
    "params['k'] = '5'\n",
    "params['input_file'] = input_file\n",
    "params['output_file'] = output_file\n",
    "params['log_file'] = log_file\n",
    "params['set_column'] = '1'\n",
    "params['tokens_column'] = '2'"
   ]
  },
  {
   "cell_type": "code",
   "execution_count": 12,
   "metadata": {},
   "outputs": [],
   "source": [
    "json.dump(params, open(config_file, 'w'), indent=4)"
   ]
  },
  {
   "cell_type": "markdown",
   "metadata": {},
   "source": [
    "## 2.b Execute the join operation"
   ]
  },
  {
   "cell_type": "code",
   "execution_count": 13,
   "metadata": {},
   "outputs": [
    {
     "name": "stdout",
     "output_type": "stream",
     "text": [
      "Finished reading file. Lines read: 18. Lines skipped due to errors: 0. Num of sets: 18. Elements per set: 6.222222222222222\n",
      "Read time: 0.003324423 sec.\n",
      "Transform time: 0.016882793 sec.\n",
      "Collection size: 18\n",
      "Join time: 0.020287217 sec.\n",
      "Number of matches: 5\n"
     ]
    }
   ],
   "source": [
    "%runrealcmd java -jar ../target/simjoin-0.0.1-SNAPSHOT-jar-with-dependencies.jar $config_file"
   ]
  },
  {
   "cell_type": "markdown",
   "metadata": {},
   "source": [
    "## 2.c Load the results"
   ]
  },
  {
   "cell_type": "code",
   "execution_count": 14,
   "metadata": {},
   "outputs": [
    {
     "data": {
      "text/html": [
       "<div>\n",
       "<style scoped>\n",
       "    .dataframe tbody tr th:only-of-type {\n",
       "        vertical-align: middle;\n",
       "    }\n",
       "\n",
       "    .dataframe tbody tr th {\n",
       "        vertical-align: top;\n",
       "    }\n",
       "\n",
       "    .dataframe thead th {\n",
       "        text-align: right;\n",
       "    }\n",
       "</style>\n",
       "<table border=\"1\" class=\"dataframe\">\n",
       "  <thead>\n",
       "    <tr style=\"text-align: right;\">\n",
       "      <th></th>\n",
       "      <th>Paper_ID_1</th>\n",
       "      <th>Paper_ID_2</th>\n",
       "      <th>Similarity</th>\n",
       "      <th>Title_1</th>\n",
       "      <th>Title_2</th>\n",
       "    </tr>\n",
       "  </thead>\n",
       "  <tbody>\n",
       "    <tr>\n",
       "      <th>0</th>\n",
       "      <td>VLDB2016a</td>\n",
       "      <td>VLDB2011</td>\n",
       "      <td>0.555556</td>\n",
       "      <td>efficient,partition,based,method,exact,set,sim...</td>\n",
       "      <td>pass,join,partition,based,method,similarity,join</td>\n",
       "    </tr>\n",
       "    <tr>\n",
       "      <th>1</th>\n",
       "      <td>VLDB2012b</td>\n",
       "      <td>VLDB2012a</td>\n",
       "      <td>0.500000</td>\n",
       "      <td>seal,spatio,textual,similarity,search</td>\n",
       "      <td>spatio,textual,similarity,join</td>\n",
       "    </tr>\n",
       "    <tr>\n",
       "      <th>2</th>\n",
       "      <td>VLDB2014</td>\n",
       "      <td>SIGMOD2013</td>\n",
       "      <td>0.428571</td>\n",
       "      <td>string,similarity,joins,experimental,evaluation</td>\n",
       "      <td>string,similarity,measures,joins,synonyms</td>\n",
       "    </tr>\n",
       "    <tr>\n",
       "      <th>3</th>\n",
       "      <td>VLDB2016a</td>\n",
       "      <td>VLDB2017</td>\n",
       "      <td>0.400000</td>\n",
       "      <td>efficient,partition,based,method,exact,set,sim...</td>\n",
       "      <td>leveraging,set,relations,exact,set,similarity,...</td>\n",
       "    </tr>\n",
       "    <tr>\n",
       "      <th>4</th>\n",
       "      <td>SIGMOD2010a</td>\n",
       "      <td>ICDE2009</td>\n",
       "      <td>0.375000</td>\n",
       "      <td>efficient,parallel,set,similarity,joins,using,...</td>\n",
       "      <td>top-k,set,similarity,joins</td>\n",
       "    </tr>\n",
       "  </tbody>\n",
       "</table>\n",
       "</div>"
      ],
      "text/plain": [
       "    Paper_ID_1  Paper_ID_2  Similarity  \\\n",
       "0    VLDB2016a    VLDB2011    0.555556   \n",
       "1    VLDB2012b   VLDB2012a    0.500000   \n",
       "2     VLDB2014  SIGMOD2013    0.428571   \n",
       "3    VLDB2016a    VLDB2017    0.400000   \n",
       "4  SIGMOD2010a    ICDE2009    0.375000   \n",
       "\n",
       "                                             Title_1  \\\n",
       "0  efficient,partition,based,method,exact,set,sim...   \n",
       "1              seal,spatio,textual,similarity,search   \n",
       "2    string,similarity,joins,experimental,evaluation   \n",
       "3  efficient,partition,based,method,exact,set,sim...   \n",
       "4  efficient,parallel,set,similarity,joins,using,...   \n",
       "\n",
       "                                             Title_2  \n",
       "0   pass,join,partition,based,method,similarity,join  \n",
       "1                     spatio,textual,similarity,join  \n",
       "2          string,similarity,measures,joins,synonyms  \n",
       "3  leveraging,set,relations,exact,set,similarity,...  \n",
       "4                         top-k,set,similarity,joins  "
      ]
     },
     "execution_count": 14,
     "metadata": {},
     "output_type": "execute_result"
    }
   ],
   "source": [
    "out2 = pd.read_csv(output_file, header=None, names=['Paper_ID_1', 'Paper_ID_2', 'Similarity'])\n",
    "out2['Title_1'] = df.set_index('Paper_ID').Title[out2.Paper_ID_1].reset_index(drop=True)\n",
    "out2['Title_2'] = df.set_index('Paper_ID').Title[out2.Paper_ID_2].reset_index(drop=True)\n",
    "out2.sort_values('Similarity', ascending=False).head()"
   ]
  },
  {
   "cell_type": "code",
   "execution_count": 15,
   "metadata": {},
   "outputs": [
    {
     "data": {
      "text/html": [
       "<div>\n",
       "<style scoped>\n",
       "    .dataframe tbody tr th:only-of-type {\n",
       "        vertical-align: middle;\n",
       "    }\n",
       "\n",
       "    .dataframe tbody tr th {\n",
       "        vertical-align: top;\n",
       "    }\n",
       "\n",
       "    .dataframe thead th {\n",
       "        text-align: right;\n",
       "    }\n",
       "</style>\n",
       "<table border=\"1\" class=\"dataframe\">\n",
       "  <thead>\n",
       "    <tr style=\"text-align: right;\">\n",
       "      <th></th>\n",
       "      <th>Paper_ID_1</th>\n",
       "      <th>Paper_ID_2</th>\n",
       "      <th>Similarity</th>\n",
       "      <th>Title_1</th>\n",
       "      <th>Title_2</th>\n",
       "    </tr>\n",
       "  </thead>\n",
       "  <tbody>\n",
       "    <tr>\n",
       "      <th>10</th>\n",
       "      <td>VLDB2016a</td>\n",
       "      <td>VLDB2011</td>\n",
       "      <td>0.555556</td>\n",
       "      <td>efficient,partition,based,method,exact,set,sim...</td>\n",
       "      <td>pass,join,partition,based,method,similarity,join</td>\n",
       "    </tr>\n",
       "    <tr>\n",
       "      <th>1</th>\n",
       "      <td>VLDB2012b</td>\n",
       "      <td>VLDB2012a</td>\n",
       "      <td>0.500000</td>\n",
       "      <td>seal,spatio,textual,similarity,search</td>\n",
       "      <td>spatio,textual,similarity,join</td>\n",
       "    </tr>\n",
       "    <tr>\n",
       "      <th>2</th>\n",
       "      <td>VLDB2014</td>\n",
       "      <td>SIGMOD2013</td>\n",
       "      <td>0.428571</td>\n",
       "      <td>string,similarity,joins,experimental,evaluation</td>\n",
       "      <td>string,similarity,measures,joins,synonyms</td>\n",
       "    </tr>\n",
       "    <tr>\n",
       "      <th>9</th>\n",
       "      <td>VLDB2016a</td>\n",
       "      <td>VLDB2017</td>\n",
       "      <td>0.400000</td>\n",
       "      <td>efficient,partition,based,method,exact,set,sim...</td>\n",
       "      <td>leveraging,set,relations,exact,set,similarity,...</td>\n",
       "    </tr>\n",
       "    <tr>\n",
       "      <th>4</th>\n",
       "      <td>VLDB2011</td>\n",
       "      <td>SIGMOD2012a</td>\n",
       "      <td>0.375000</td>\n",
       "      <td>pass,join,partition,based,method,similarity,join</td>\n",
       "      <td>exploiting,mapreduce,based,similarity,join</td>\n",
       "    </tr>\n",
       "    <tr>\n",
       "      <th>5</th>\n",
       "      <td>VLDB2018</td>\n",
       "      <td>SIGMOD2012a</td>\n",
       "      <td>0.375000</td>\n",
       "      <td>set,similarity,join,mapreduce,experimental,survey</td>\n",
       "      <td>exploiting,mapreduce,based,similarity,join</td>\n",
       "    </tr>\n",
       "    <tr>\n",
       "      <th>8</th>\n",
       "      <td>SIGMOD2010a</td>\n",
       "      <td>ICDE2009</td>\n",
       "      <td>0.375000</td>\n",
       "      <td>efficient,parallel,set,similarity,joins,using,...</td>\n",
       "      <td>top-k,set,similarity,joins</td>\n",
       "    </tr>\n",
       "    <tr>\n",
       "      <th>0</th>\n",
       "      <td>VLDB2012a</td>\n",
       "      <td>SIGMOD2010b</td>\n",
       "      <td>0.333333</td>\n",
       "      <td>spatio,textual,similarity,join</td>\n",
       "      <td>probabilistic,string,similarity,join</td>\n",
       "    </tr>\n",
       "    <tr>\n",
       "      <th>3</th>\n",
       "      <td>VLDB2017</td>\n",
       "      <td>VLDB2016b</td>\n",
       "      <td>0.333333</td>\n",
       "      <td>leveraging,set,relations,exact,set,similarity,...</td>\n",
       "      <td>empirical,evaluation,set,similarity,join,techn...</td>\n",
       "    </tr>\n",
       "    <tr>\n",
       "      <th>6</th>\n",
       "      <td>VLDB2018</td>\n",
       "      <td>VLDB2017</td>\n",
       "      <td>0.333333</td>\n",
       "      <td>set,similarity,join,mapreduce,experimental,survey</td>\n",
       "      <td>leveraging,set,relations,exact,set,similarity,...</td>\n",
       "    </tr>\n",
       "  </tbody>\n",
       "</table>\n",
       "</div>"
      ],
      "text/plain": [
       "     Paper_ID_1   Paper_ID_2  Similarity  \\\n",
       "10    VLDB2016a     VLDB2011    0.555556   \n",
       "1     VLDB2012b    VLDB2012a    0.500000   \n",
       "2      VLDB2014   SIGMOD2013    0.428571   \n",
       "9     VLDB2016a     VLDB2017    0.400000   \n",
       "4      VLDB2011  SIGMOD2012a    0.375000   \n",
       "5      VLDB2018  SIGMOD2012a    0.375000   \n",
       "8   SIGMOD2010a     ICDE2009    0.375000   \n",
       "0     VLDB2012a  SIGMOD2010b    0.333333   \n",
       "3      VLDB2017    VLDB2016b    0.333333   \n",
       "6      VLDB2018     VLDB2017    0.333333   \n",
       "\n",
       "                                              Title_1  \\\n",
       "10  efficient,partition,based,method,exact,set,sim...   \n",
       "1               seal,spatio,textual,similarity,search   \n",
       "2     string,similarity,joins,experimental,evaluation   \n",
       "9   efficient,partition,based,method,exact,set,sim...   \n",
       "4    pass,join,partition,based,method,similarity,join   \n",
       "5   set,similarity,join,mapreduce,experimental,survey   \n",
       "8   efficient,parallel,set,similarity,joins,using,...   \n",
       "0                      spatio,textual,similarity,join   \n",
       "3   leveraging,set,relations,exact,set,similarity,...   \n",
       "6   set,similarity,join,mapreduce,experimental,survey   \n",
       "\n",
       "                                              Title_2  \n",
       "10   pass,join,partition,based,method,similarity,join  \n",
       "1                      spatio,textual,similarity,join  \n",
       "2           string,similarity,measures,joins,synonyms  \n",
       "9   leveraging,set,relations,exact,set,similarity,...  \n",
       "4          exploiting,mapreduce,based,similarity,join  \n",
       "5          exploiting,mapreduce,based,similarity,join  \n",
       "8                          top-k,set,similarity,joins  \n",
       "0                probabilistic,string,similarity,join  \n",
       "3   empirical,evaluation,set,similarity,join,techn...  \n",
       "6   leveraging,set,relations,exact,set,similarity,...  "
      ]
     },
     "execution_count": 15,
     "metadata": {},
     "output_type": "execute_result"
    }
   ],
   "source": [
    "out1.sort_values(\"Similarity\", ascending=False).head(10)"
   ]
  }
 ],
 "metadata": {
  "kernelspec": {
   "display_name": "Python 3",
   "language": "python",
   "name": "python3"
  },
  "language_info": {
   "codemirror_mode": {
    "name": "ipython",
    "version": 3
   },
   "file_extension": ".py",
   "mimetype": "text/x-python",
   "name": "python",
   "nbconvert_exporter": "python",
   "pygments_lexer": "ipython3",
   "version": "3.6.8"
  }
 },
 "nbformat": 4,
 "nbformat_minor": 2
}
